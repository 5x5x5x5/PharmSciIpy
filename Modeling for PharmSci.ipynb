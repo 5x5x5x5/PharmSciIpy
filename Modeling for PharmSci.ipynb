{
 "metadata": {
  "name": ""
 },
 "nbformat": 3,
 "nbformat_minor": 0,
 "worksheets": [
  {
   "cells": [
    {
     "cell_type": "code",
     "collapsed": false,
     "input": [
      "print Hello World\n"
     ],
     "language": "python",
     "metadata": {},
     "outputs": [
      {
       "ename": "SyntaxError",
       "evalue": "invalid syntax (<ipython-input-1-9d30e232d227>, line 1)",
       "output_type": "pyerr",
       "traceback": [
        "\u001b[1;36m  File \u001b[1;32m\"<ipython-input-1-9d30e232d227>\"\u001b[1;36m, line \u001b[1;32m1\u001b[0m\n\u001b[1;33m    print Hello World\u001b[0m\n\u001b[1;37m                    ^\u001b[0m\n\u001b[1;31mSyntaxError\u001b[0m\u001b[1;31m:\u001b[0m invalid syntax\n"
       ]
      }
     ],
     "prompt_number": 1
    },
    {
     "cell_type": "code",
     "collapsed": false,
     "input": [
      "print \"Hello World!\""
     ],
     "language": "python",
     "metadata": {},
     "outputs": [
      {
       "output_type": "stream",
       "stream": "stdout",
       "text": [
        "Hello World!\n"
       ]
      }
     ],
     "prompt_number": 2
    },
    {
     "cell_type": "code",
     "collapsed": false,
     "input": [
      "def f(x):\n",
      "    return (x-3)*(x-5)*(x-7)+85\n",
      "\n",
      "import numpy as np\n",
      "x = np.linspace(0, 10, 200)\n",
      "y = f(x)\n",
      "plot(x,y)"
     ],
     "language": "python",
     "metadata": {},
     "outputs": [],
     "prompt_number": "*"
    },
    {
     "cell_type": "code",
     "collapsed": false,
     "input": [
      "from sympy import *\n",
      "%load_ext sympyprinting\n",
      "x, y = symbols(\"x y\")"
     ],
     "language": "python",
     "metadata": {},
     "outputs": [
      {
       "output_type": "stream",
       "stream": "stderr",
       "text": [
        "C:\\Users\\Biocurious\\AppData\\Local\\Enthought\\Canopy\\User\\lib\\site-packages\\IPython\\extensions\\sympyprinting.py:117: UserWarning: The sympyprinting extension in IPython is deprecated, use 'from sympy import init_printing; init_printing()'\n",
        "  warnings.warn(\"The sympyprinting extension in IPython is deprecated, \"\n",
        "C:\\Users\\Biocurious\\AppData\\Local\\Enthought\\Canopy\\User\\lib\\site-packages\\sympy\\utilities\\exceptions.py:149: SymPyDeprecationWarning: \n",
        "\n",
        "using %load_ext sympy.interactive.ipythonprinting has been deprecated\n",
        "since SymPy 0.7.3. Use from sympy import init_printing ;\n",
        "init_printing() instead. See\n",
        "http://code.google.com/p/sympy/issues/detail?id=3914 for more info.\n",
        "\n",
        "  warning(see_above, SymPyDeprecationWarning)\n"
       ]
      }
     ],
     "prompt_number": 4
    },
    {
     "cell_type": "code",
     "collapsed": false,
     "input": [
      "eq = ((x+y)**2 * (x+1))\n",
      "eq"
     ],
     "language": "python",
     "metadata": {},
     "outputs": [
      {
       "latex": [
        "$$\\left(x + 1\\right) \\left(x + y\\right)^{2}$$"
       ],
       "metadata": {},
       "output_type": "pyout",
       "prompt_number": 5,
       "text": [
        "               2\n",
        "(x + 1)\u22c5(x + y) "
       ]
      }
     ],
     "prompt_number": 5
    },
    {
     "cell_type": "code",
     "collapsed": false,
     "input": [
      "eq"
     ],
     "language": "python",
     "metadata": {},
     "outputs": [
      {
       "latex": [
        "$$\\left(x + 1\\right) \\left(x + y\\right)^{2}$$"
       ],
       "metadata": {},
       "output_type": "pyout",
       "prompt_number": 6,
       "text": [
        "               2\n",
        "(x + 1)\u22c5(x + y) "
       ]
      }
     ],
     "prompt_number": 6
    },
    {
     "cell_type": "code",
     "collapsed": false,
     "input": [
      "expand(eq)"
     ],
     "language": "python",
     "metadata": {},
     "outputs": [
      {
       "latex": [
        "$$x^{3} + 2 x^{2} y + x^{2} + x y^{2} + 2 x y + y^{2}$$"
       ],
       "metadata": {},
       "output_type": "pyout",
       "prompt_number": 7,
       "text": [
        " 3      2      2      2            2\n",
        "x  + 2\u22c5x \u22c5y + x  + x\u22c5y  + 2\u22c5x\u22c5y + y "
       ]
      }
     ],
     "prompt_number": 7
    },
    {
     "cell_type": "code",
     "collapsed": false,
     "input": [
      "(1/cos(x)).series(x, 0, 6)"
     ],
     "language": "python",
     "metadata": {},
     "outputs": [
      {
       "latex": [
        "$$1 + \\frac{x^{2}}{2} + \\frac{5 x^{4}}{24} + \\mathcal{O}\\left(x^{6}\\right)$$"
       ],
       "metadata": {},
       "output_type": "pyout",
       "prompt_number": 8,
       "text": [
        "     2      4        \n",
        "    x    5\u22c5x     \u239b 6\u239e\n",
        "1 + \u2500\u2500 + \u2500\u2500\u2500\u2500 + O\u239dx \u23a0\n",
        "    2     24         "
       ]
      }
     ],
     "prompt_number": 8
    },
    {
     "cell_type": "code",
     "collapsed": false,
     "input": [
      " x = randn(10000)\n",
      "  hist(x, 100)"
     ],
     "language": "python",
     "metadata": {},
     "outputs": [
      {
       "ename": "IndentationError",
       "evalue": "unexpected indent (<ipython-input-9-06174a1915c8>, line 2)",
       "output_type": "pyerr",
       "traceback": [
        "\u001b[1;36m  File \u001b[1;32m\"<ipython-input-9-06174a1915c8>\"\u001b[1;36m, line \u001b[1;32m2\u001b[0m\n\u001b[1;33m    hist(x, 100)\u001b[0m\n\u001b[1;37m    ^\u001b[0m\n\u001b[1;31mIndentationError\u001b[0m\u001b[1;31m:\u001b[0m unexpected indent\n"
       ]
      }
     ],
     "prompt_number": 9
    },
    {
     "cell_type": "code",
     "collapsed": false,
     "input": [
      "x = randn(10000)\n",
      "hist(x, 100)"
     ],
     "language": "python",
     "metadata": {},
     "outputs": [
      {
       "ename": "NameError",
       "evalue": "name 'randn' is not defined",
       "output_type": "pyerr",
       "traceback": [
        "\u001b[1;31m---------------------------------------------------------------------------\u001b[0m\n\u001b[1;31mNameError\u001b[0m                                 Traceback (most recent call last)",
        "\u001b[1;32m<ipython-input-10-276ce5d52d04>\u001b[0m in \u001b[0;36m<module>\u001b[1;34m()\u001b[0m\n\u001b[1;32m----> 1\u001b[1;33m \u001b[0mx\u001b[0m \u001b[1;33m=\u001b[0m \u001b[0mrandn\u001b[0m\u001b[1;33m(\u001b[0m\u001b[1;36m10000\u001b[0m\u001b[1;33m)\u001b[0m\u001b[1;33m\u001b[0m\u001b[0m\n\u001b[0m\u001b[0;32m      2\u001b[0m \u001b[0mhist\u001b[0m\u001b[1;33m(\u001b[0m\u001b[0mx\u001b[0m\u001b[1;33m,\u001b[0m \u001b[1;36m100\u001b[0m\u001b[1;33m)\u001b[0m\u001b[1;33m\u001b[0m\u001b[0m\n",
        "\u001b[1;31mNameError\u001b[0m: name 'randn' is not defined"
       ]
      }
     ],
     "prompt_number": 10
    },
    {
     "cell_type": "code",
     "collapsed": false,
     "input": [
      "\"\"\"\n",
      "An animated image\n",
      "\"\"\"\n",
      "import numpy as np\n",
      "import matplotlib.pyplot as plt\n",
      "import matplotlib.animation as animation\n",
      "\n",
      "fig = plt.figure()\n",
      "\n",
      "def f(x, y):\n",
      "    return np.sin(x) + np.cos(y)\n",
      "\n",
      "x = np.linspace(0, 2 * np.pi, 120)\n",
      "y = np.linspace(0, 2 * np.pi, 100).reshape(-1, 1)\n",
      "# ims is a list of lists, each row is a list of artists to draw in the\n",
      "# current frame; here we are just animating one artist, the image, in\n",
      "# each frame\n",
      "ims = []\n",
      "for i in range(60):\n",
      "    x += np.pi / 15.\n",
      "    y += np.pi / 20.\n",
      "    im = plt.imshow(f(x, y))\n",
      "    ims.append([im])\n",
      "\n",
      "ani = animation.ArtistAnimation(fig, ims, interval=50, blit=True,\n",
      "    repeat_delay=1000)\n",
      "\n",
      "#ani.save('dynamic_images.mp4')\n",
      "\n",
      "\n",
      "plt.show()"
     ],
     "language": "python",
     "metadata": {},
     "outputs": [],
     "prompt_number": "*"
    },
    {
     "cell_type": "code",
     "collapsed": false,
     "input": [
      "# update a distribution based on new data.\n",
      "import numpy as np\n",
      "import matplotlib.pyplot as plt\n",
      "import scipy.stats as ss\n",
      "from matplotlib.animation import FuncAnimation\n",
      "\n",
      "class UpdateDist(object):\n",
      "    def __init__(self, ax, prob=0.5):\n",
      "        self.success = 0\n",
      "        self.prob = prob\n",
      "        self.line, = ax.plot([], [], 'k-')\n",
      "        self.x = np.linspace(0, 1, 200)\n",
      "        self.ax = ax\n",
      "\n",
      "        # Set up plot parameters\n",
      "        self.ax.set_xlim(0, 1)\n",
      "        self.ax.set_ylim(0, 15)\n",
      "        self.ax.grid(True)\n",
      "\n",
      "        # This vertical line represents the theoretical value, to\n",
      "        # which the plotted distribution should converge.\n",
      "        self.ax.axvline(prob, linestyle='--', color='black')\n",
      "\n",
      "    def init(self):\n",
      "        self.success = 0\n",
      "        self.line.set_data([], [])\n",
      "        return self.line,\n",
      "\n",
      "    def __call__(self, i):\n",
      "        # This way the plot can continuously run and we just keep\n",
      "        # watching new realizations of the process\n",
      "        if i == 0:\n",
      "            return self.init()\n",
      "\n",
      "        # Choose success based on exceed a threshold with a uniform pick\n",
      "        if np.random.rand(1,) < self.prob:\n",
      "            self.success += 1\n",
      "        y = ss.beta.pdf(self.x, self.success + 1, (i - self.success) + 1)\n",
      "        self.line.set_data(self.x, y)\n",
      "        return self.line,\n",
      "\n",
      "fig = plt.figure()\n",
      "ax = fig.add_subplot(1, 1, 1)\n",
      "ud = UpdateDist(ax, prob=0.7)\n",
      "anim = FuncAnimation(fig, ud, frames=np.arange(100), init_func=ud.init,\n",
      "        interval=100, blit=True)\n",
      "plt.show()"
     ],
     "language": "python",
     "metadata": {},
     "outputs": []
    },
    {
     "cell_type": "code",
     "collapsed": false,
     "input": [],
     "language": "python",
     "metadata": {},
     "outputs": []
    }
   ],
   "metadata": {}
  }
 ]
}