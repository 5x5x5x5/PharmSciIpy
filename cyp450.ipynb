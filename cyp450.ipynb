Paper title 
Comprehensive Characterization of Cytochrome P450 Isozyme Selectivity across Chemical Libraries

This notebook is designed to demonstrate exploratory data anlysis of the activity of a chemical library against recombinant CYP isozymes 1A2, 2C9, 2C19, 2D6, and 3A4 as determined by an in vitro bioluminescent assay.

First problem is loading all relevant data.

Second step - data cleaning

Data representation



...


analysis